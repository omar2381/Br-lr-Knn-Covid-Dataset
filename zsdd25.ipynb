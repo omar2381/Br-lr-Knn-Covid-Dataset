{
  "nbformat": 4,
  "nbformat_minor": 0,
  "metadata": {
    "colab": {
      "name": "zsdd25.ipynb",
      "provenance": [],
      "collapsed_sections": []
    },
    "kernelspec": {
      "display_name": "Python 3",
      "name": "python3"
    },
    "language_info": {
      "name": "python"
    }
  },
  "cells": [
    {
      "cell_type": "code",
      "metadata": {
        "id": "OJrdEyiXl-1t"
      },
      "source": [
        "#list of imports\n",
        "import pandas as pd\n",
        "import numpy as np\n",
        "import math\n",
        "from datetime import datetime\n",
        "\n",
        "import urllib.request\n",
        "import tarfile\n",
        "\n",
        "from sklearn.linear_model import BayesianRidge\n",
        "from sklearn.linear_model import LogisticRegression\n",
        "\n",
        "from sklearn.neighbors import NeighborhoodComponentsAnalysis\n",
        "from sklearn.neighbors import KNeighborsClassifier\n",
        "\n",
        "from sklearn.preprocessing import PolynomialFeatures\n",
        "from sklearn.preprocessing import StandardScaler\n",
        "\n",
        "from sklearn.model_selection import train_test_split\n",
        "\n",
        "from sklearn.metrics import accuracy_score\n",
        "from sklearn.metrics import matthews_corrcoef\n",
        "from sklearn.metrics import r2_score\n",
        "\n",
        "import matplotlib.pyplot as plt \n",
        "import seaborn as sns\n",
        "\n",
        "import warnings\n",
        "warnings.filterwarnings(action = 'ignore') "
      ],
      "execution_count": null,
      "outputs": []
    },
    {
      "cell_type": "code",
      "metadata": {
        "id": "3YKFb5Tj61D_"
      },
      "source": [
        "#reading in the dataframe\n",
        "\n",
        "url = \"https://github.com/beoutbreakprepared/nCoV2019/raw/master/latest_data/latestdata.tar.gz\"\n",
        "filename, headers = urllib.request.urlretrieve(url, filename=\"latestdata.tar.gz\")\n",
        " \n",
        "if filename.endswith(\"tar.gz\"): \n",
        "  tar = tarfile.open(filename, \"r:gz\") \n",
        "  tar.extractall() \n",
        "  tar.close() \n",
        "elif filename.endswith(\"tar\"): \n",
        "  tar = tarfile.open(filename, \"r:\") \n",
        "  tar.extractall() \n",
        "  tar.close()"
      ],
      "execution_count": null,
      "outputs": []
    },
    {
      "cell_type": "code",
      "metadata": {
        "colab": {
          "base_uri": "https://localhost:8080/"
        },
        "id": "Lx7kkkoHmB85",
        "outputId": "b1627f27-9773-4fb3-c63a-2d2601949376"
      },
      "source": [
        "#minor edits to dataset \n",
        "\n",
        "df = pd.read_csv(filename, header=1)\n",
        "df.rename(columns={'Unnamed: 0': 'ID'}, inplace=True)\n",
        "\n",
        "#remiving usless data\n",
        "del df[\"city\"]\n",
        "del df[\"country\"]\n",
        "del df[\"province\"]\n",
        "del df[\"ID\"]\n",
        "del df[\"geo_resolution\"]\n",
        "del df[\"lives_in_Wuhan\"]\n",
        "del df[\"travel_history_dates\"]\n",
        "del df[\"travel_history_binary\"]\n",
        "del df[\"travel_history_location\"]\n",
        "del df[\"reported_market_exposure\"]\n",
        "del df[\"additional_information\"]\n",
        "del df[\"chronic_disease\"]\n",
        "del df[\"source\"]\n",
        "del df[\"admin3\"]\n",
        "del df[\"admin2\"]\n",
        "del df[\"admin1\"]\n",
        "del df[\"country_new\"]\n",
        "del df[\"admin_id\"]\n",
        "del df[\"data_moderator_initials\"]\n",
        "del df[\"date_death_or_discharge\"]\n",
        "del df[\"location\"]\n",
        "del df[\"sequence_available\"]\n",
        "del df[\"notes_for_discussion\"]\n",
        "\n",
        "#altering the dataframe\n",
        "df = df[df['date_confirmation'].notna()]\n",
        "df = df[df['age'].notna()]\n",
        "df = df[df['sex'].notna()]\n",
        "df = df[df['latitude'].notna()]\n",
        "df = df[df['longitude'].notna()]\n",
        "df = df[df['outcome'].notna()]\n",
        "\n",
        "size = df.shape\n",
        "DEGREE = 4\n",
        "TRAIN_ON = 0.7\n",
        "base_date = \"6.6.2019\"\n",
        "print(df.count())"
      ],
      "execution_count": null,
      "outputs": [
        {
          "output_type": "stream",
          "text": [
            "age                        33531\n",
            "sex                        33531\n",
            "latitude                   33531\n",
            "longitude                  33531\n",
            "date_onset_symptoms         3495\n",
            "date_admission_hospital      243\n",
            "date_confirmation          33531\n",
            "symptoms                     177\n",
            "chronic_disease_binary     33531\n",
            "outcome                    33531\n",
            "dtype: int64\n"
          ],
          "name": "stdout"
        }
      ]
    },
    {
      "cell_type": "code",
      "metadata": {
        "id": "BKLGzxCq6IHT"
      },
      "source": [
        "#function to convert dd/mm/yyyy into a single integer\n",
        "def to_seconds(date, base_date = base_date):\n",
        "    #initialize base datetime\n",
        "    base = pd.DataFrame(np.array([[base_date]*date.size]).T)\n",
        "    base = pd.to_datetime(base[0], dayfirst = True)\n",
        "\n",
        "    #initialize the 2 date datetime columns\n",
        "    date = date.reset_index(drop=True)\n",
        "    cols = date.str.split('-',expand = True)\n",
        "    cols[1] = cols[1].fillna(cols[0])\n",
        "    start = pd.to_datetime(cols[0], dayfirst=True)\n",
        "    end = pd.to_datetime(cols[1], dayfirst=True)\n",
        "\n",
        "    #get median date between 2 columns\n",
        "    day_diff = end-start\n",
        "    date = start+(day_diff/2)\n",
        "\n",
        "    #get difference between date and base and convert to seconds\n",
        "    days = date - base\n",
        "    seconds = days.dt.total_seconds().to_frame()\n",
        "\n",
        "    return seconds"
      ],
      "execution_count": null,
      "outputs": []
    },
    {
      "cell_type": "code",
      "metadata": {
        "id": "kPmB_fB7sEv3"
      },
      "source": [
        "#graphing function\n",
        "def graph(y_pred):\n",
        "  y_pred = pd.DataFrame(y_pred)\n",
        "  y_pred.rename(columns={0: 'outcome'}, inplace=True)\n",
        "  fig, ax = plt.subplots()\n",
        "  sns.countplot(x = \"outcome\", data = y_pred, order=y_pred[\"outcome\"].value_counts().iloc[:2].index)\n",
        "  ax.set_xlabel(\"outcome\",fontsize=17);\n",
        "  plt.show()"
      ],
      "execution_count": null,
      "outputs": []
    },
    {
      "cell_type": "code",
      "metadata": {
        "id": "moDBfUwGMqIC"
      },
      "source": [
        "#normalise the outcome to 1's and 0's\n",
        "def sheikhize(dfi):\n",
        "    arr = [1,1,0,1,0,1,1,1,1,1,1,1,1,0,1,0,1,1,1,0,0,1,0,1,1,1,1,1,1,1,1,1,1,1]\n",
        "    all = ['Hospitalized','Recovered','Deceased','recovered','died','Under treatment','Receiving Treatment','Alive','discharge','stable','stable condition','https://www.mspbs.gov.py/covid-19.php','discharged','death','Stable','Dead','Migrated_Other','Migrated','Discharged from hospital','Death','Died','released from quarantine','dead','severe','recovering at home 03.03.2020','critical condition, intubated as of 14.02.2020','Discharged','not hospitalized','treated in an intensive care unit (14.02.2020)','Symptoms only improved with cough. Currently hospitalized for follow-up.','severe illness','Critical condition','critical condition','unstable']\n",
        "    outcome = (df[\"outcome\"])\n",
        "\n",
        "    for idx, i in enumerate(arr):\n",
        "        outcome.replace(to_replace = all[idx], value = arr[idx],inplace=True)\n",
        "    \n",
        "    outcome = outcome.to_frame()\n",
        "    outcome = outcome[outcome.outcome != 'NaN']\n",
        "    return outcome"
      ],
      "execution_count": null,
      "outputs": []
    },
    {
      "cell_type": "code",
      "metadata": {
        "id": "72cjS4b8ptyZ"
      },
      "source": [
        "#get the y data to be predicted\n",
        "def get_y(df):\n",
        "    outcome = sheikhize(df[\"outcome\"])\n",
        "    return outcome"
      ],
      "execution_count": null,
      "outputs": []
    },
    {
      "cell_type": "code",
      "metadata": {
        "id": "mEJgKLhcmW7z"
      },
      "source": [
        "#get the x data for learning, and focused feature selection on each of the data points\n",
        "def get_x(df):\n",
        "    \n",
        "    age = df[\"age\"]\n",
        "    age = age.str.split('-',expand = True).drop([1],axis = 1).squeeze()\n",
        "    age = age.fillna(30)\n",
        "    \n",
        "    sex = df[\"sex\"]\n",
        "    sex = pd.get_dummies(sex,dummy_na = True)\n",
        "    sex = sex[\"female\"]*2 + sex[\"male\"]\n",
        "    sex = sex.to_frame()\n",
        "    sex = sex.rename(columns={0: \"sex\"})\n",
        "    sex = sex.fillna(0)\n",
        "    \n",
        "    latitude = df[\"latitude\"].fillna(0)\n",
        "    longitude = df[\"longitude\"].fillna(0)\n",
        "    \n",
        "    date_onset_symptoms = df[\"date_onset_symptoms\"].fillna(base_date)\n",
        "    #date_onset_symptoms = to_seconds(date_onset_symptoms)\n",
        "\n",
        "    date_admission_hospital = df[\"date_admission_hospital\"].fillna(base_date)\n",
        "    #date_admission_hospital = to_seconds(date_admission_hospital)\n",
        "                                           \n",
        "    symptoms = df[\"symptoms\"].fillna(0)\n",
        "    symptoms = pd.get_dummies(symptoms,dummy_na = True)\n",
        "    symptoms = (symptoms.iloc[:,-1:] * -1 + 1)\n",
        "    symptoms.columns = [*symptoms.columns[:-1], 'symptoms']\n",
        "\n",
        "    chronic_disease_binary = df[\"chronic_disease_binary\"].fillna(0)\n",
        "    chronic_disease_binary = pd.get_dummies(chronic_disease_binary)\n",
        "    chronic_disease_binary = chronic_disease_binary.drop([0], axis =1)\n",
        "    chronic_disease_binary = chronic_disease_binary.rename(columns={1: \"chronic_disease_binary\"})\n",
        "    \n",
        "    x = pd.concat([age,sex,latitude,longitude,symptoms,chronic_disease_binary], axis=1)\n",
        "\n",
        "    return x"
      ],
      "execution_count": null,
      "outputs": []
    },
    {
      "cell_type": "code",
      "metadata": {
        "id": "dZWs1sfiwOTS"
      },
      "source": [
        "x = get_x(df)\n",
        "y = get_y(df)\n",
        "\n",
        "#split x and y into test and train\n",
        "x_train = x.iloc[:int(size[0] * TRAIN_ON + 0.5)]\n",
        "y_train = y.iloc[:int(size[0] * TRAIN_ON + 0.5)]\n",
        "x_test = x.iloc[int(size[0] * TRAIN_ON + 0.5):]\n",
        "y_test = y.iloc[int(size[0] * TRAIN_ON + 0.5):]\n",
        "\n",
        "y_test.reset_index(drop=True, inplace=True)"
      ],
      "execution_count": null,
      "outputs": []
    },
    {
      "cell_type": "code",
      "metadata": {
        "id": "771sDXvw0b3j"
      },
      "source": [
        "def bayesian(x_train,y_train, x_test, y_test,d):\n",
        "    \n",
        "    x_train = PolynomialFeatures(degree=d, include_bias=False).fit_transform(x_train)\n",
        "    x_test = PolynomialFeatures(degree=d, include_bias=False).fit_transform(x_test)\n",
        "    \n",
        "    model = BayesianRidge().fit(x_train, y_train)\n",
        "\n",
        "    y_pred = model.predict(x_test)\n",
        "\n",
        "    with warnings.catch_warnings():\n",
        "        warnings.simplefilter(\"ignore\")\n",
        "        corr = matthews_corrcoef(y_pred.round(), y_test.round())\n",
        "\n",
        "    r2 = r2_score(y_test, y_pred)\n",
        "    acc = accuracy_score(y_test, y_pred.round())\n",
        "    return y_pred, corr, r2, acc"
      ],
      "execution_count": null,
      "outputs": []
    },
    {
      "cell_type": "code",
      "metadata": {
        "id": "tBpD1tOo7gW9",
        "colab": {
          "base_uri": "https://localhost:8080/",
          "height": 371
        },
        "outputId": "f3a19764-83cf-47ae-c230-6840bf580b52"
      },
      "source": [
        "y_pred,corr,r2, acc = bayesian(x_train,y_train, x_test, y_test,DEGREE)\n",
        "print(y_pred)\n",
        "print(corr)\n",
        "print(r2)\n",
        "print(acc)\n",
        "graph(y_pred)"
      ],
      "execution_count": null,
      "outputs": [
        {
          "output_type": "stream",
          "text": [
            "[ 1.00025757  1.00252134  0.99038431 ... -0.15705962 -0.52044875\n",
            "  0.49212848]\n",
            "0.39213862037868014\n",
            "0.2114410341569536\n",
            "0.9361765583059947\n"
          ],
          "name": "stdout"
        },
        {
          "output_type": "display_data",
          "data": {
            "image/png": "[encoded data removed]",
            "text/plain": [
              "<Figure size 432x288 with 1 Axes>"
            ]
          },
          "metadata": {
            "tags": [],
            "needs_background": "light"
          }
        }
      ]
    },
    {
      "cell_type": "code",
      "metadata": {
        "id": "u8YDx4bGxxYO"
      },
      "source": [
        "def lr(x_train,y_train, x_test, y_test):\n",
        "    sc_X = StandardScaler()\n",
        "\n",
        "    x_train = sc_X.fit_transform(x_train)\n",
        "\n",
        "    x_test = sc_X.transform(x_test)\n",
        "\n",
        "    lr = LogisticRegression()\n",
        "\n",
        "    lr.fit(x_train, y_train)\n",
        "\n",
        "    y_pred = lr.predict(x_test)\n",
        "\n",
        "    with warnings.catch_warnings():\n",
        "        warnings.simplefilter(\"ignore\")\n",
        "        corr = matthews_corrcoef(y_pred.round(), y_test.round())\n",
        "\n",
        "    r2 = r2_score(y_test, y_pred)\n",
        "    acc = accuracy_score(y_test, y_pred)\n",
        "    return y_pred, corr, r2, acc"
      ],
      "execution_count": null,
      "outputs": []
    },
    {
      "cell_type": "code",
      "metadata": {
        "id": "WYJGJGDKx6Qq",
        "colab": {
          "base_uri": "https://localhost:8080/",
          "height": 354
        },
        "outputId": "1e093513-fb5e-4f2b-a5cb-f03a3a4e0539"
      },
      "source": [
        "y_pred,corr,r2, acc = lr(x_train,y_train, x_test, y_test)\n",
        "print(y_pred)\n",
        "print(corr)\n",
        "print(r2)\n",
        "print(acc)\n",
        "graph(y_pred)"
      ],
      "execution_count": null,
      "outputs": [
        {
          "output_type": "stream",
          "text": [
            "[1 1 1 ... 0 1 1]\n",
            "0.08643943010350438\n",
            "-0.07115823111206465\n",
            "0.9322994333432747\n"
          ],
          "name": "stdout"
        },
        {
          "output_type": "display_data",
          "data": {
            "image/png": "[encoded data removed]",
            "text/plain": [
              "<Figure size 432x288 with 1 Axes>"
            ]
          },
          "metadata": {
            "tags": [],
            "needs_background": "light"
          }
        }
      ]
    },
    {
      "cell_type": "code",
      "metadata": {
        "id": "1eiGVtybv5K6"
      },
      "source": [
        "def K_Neighbor(x_train,y_train, x_test, y_test):\n",
        "    \n",
        "    scaler = StandardScaler()\n",
        "    scaler.fit(x_train)\n",
        "    x_train = scaler.transform(x_train)\n",
        "    x_test = scaler.transform(x_test)\n",
        "\n",
        "    y_train = (y_train).astype(int)\n",
        "\n",
        "    kn = KNeighborsClassifier(n_neighbors=16)\n",
        "\n",
        "    model = kn.fit(x_train, y_train)\n",
        "    y_pred = model.predict(x_test)\n",
        "        \n",
        "    with warnings.catch_warnings():\n",
        "        warnings.simplefilter(\"ignore\")\n",
        "        corr = matthews_corrcoef(y_pred.round(), y_test.round())\n",
        "\n",
        "    r2 = r2_score(y_test, y_pred)\n",
        "\n",
        "    acc = accuracy_score(y_test, y_pred)\n",
        "    return y_pred, corr, r2, acc"
      ],
      "execution_count": null,
      "outputs": []
    },
    {
      "cell_type": "code",
      "metadata": {
        "id": "hA_sRsZ8zJk_",
        "colab": {
          "base_uri": "https://localhost:8080/",
          "height": 354
        },
        "outputId": "310ff257-1208-44a4-9b41-aa52d636b2d1"
      },
      "source": [
        "y_pred,corr,r2, acc = K_Neighbor(x_train,y_train, x_test, y_test)\n",
        "print(y_pred)\n",
        "print(corr)\n",
        "print(r2)\n",
        "print(acc)\n",
        "graph(y_pred)"
      ],
      "execution_count": null,
      "outputs": [
        {
          "output_type": "stream",
          "text": [
            "[1 1 1 ... 0 0 0]\n",
            "0.43575942057709227\n",
            "-0.3086690870561495\n",
            "0.9172880007953077\n"
          ],
          "name": "stdout"
        },
        {
          "output_type": "display_data",
          "data": {
            "image/png": "[encoded data removed]",
            "text/plain": [
              "<Figure size 432x288 with 1 Axes>"
            ]
          },
          "metadata": {
            "tags": [],
            "needs_background": "light"
          }
        }
      ]
    }
  ]
}